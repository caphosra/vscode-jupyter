{
    "cells": [
        {
            "cell_type": "markdown",
            "metadata": {},
            "source": [
                "# Prerequisites\n",
                "\n",
                "### pip install ipyaladin"
            ]
        },
        {
            "cell_type": "code",
            "execution_count": null,
            "metadata": {},
            "outputs": [],
            "source": [
                "import ipyaladin\n",
                "aladin = ipyaladin.Aladin(target='messier 51', fov=1)\n",
                "aladin"
            ]
        }
    ],
    "metadata": {
        "kernelspec": {
            "language": "python"
        },
        "language_info": {
            "codemirror_mode": {
                "name": "ipython",
                "version": 3
            },
            "file_extension": ".py",
            "mimetype": "text/x-python",
            "name": "python",
            "nbconvert_exporter": "python",
            "pygments_lexer": "ipython3",
            "version": "3.8.12"
        },
        "mimetype": "text/x-python",
        "name": "python",
        "npconvert_exporter": "python",
        "pygments_lexer": "ipython3",
        "version": 3
    },
    "nbformat": 4,
    "nbformat_minor": 2
}
